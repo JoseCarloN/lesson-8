{
 "cells": [
  {
   "cell_type": "markdown",
   "id": "342eac09-b12d-44c4-a6d3-e1568abd5995",
   "metadata": {},
   "source": [
    "# Find null values in df"
   ]
  },
  {
   "cell_type": "code",
   "execution_count": 1,
   "id": "01634d34-3e6b-4249-bf7d-1a2a2af8ead5",
   "metadata": {},
   "outputs": [],
   "source": [
    "import warnings\n",
    "import pandas as pd\n",
    "\n",
    "warnings.filterwarnings(action='ignore', category=DeprecationWarning)"
   ]
  },
  {
   "cell_type": "code",
   "execution_count": 3,
   "id": "472fcc9b-3dec-4cbf-83b9-bb602837abe5",
   "metadata": {},
   "outputs": [],
   "source": [
    "data = pd.read_csv('datasets/jobs_in_data.csv')\n",
    "data.columns = data.columns.str.lower()\n",
    "data.columns = data.columns.str.lower().str.replace(' ', '_')\n"
   ]
  },
  {
   "cell_type": "code",
   "execution_count": 7,
   "id": "6ed47a35-99a9-4db7-a316-889aa67f39ec",
   "metadata": {},
   "outputs": [],
   "source": [
    "null_values = data.isnull()"
   ]
  },
  {
   "cell_type": "code",
   "execution_count": 10,
   "id": "bd4baaaf-38de-4da1-8027-03572f76d13b",
   "metadata": {},
   "outputs": [
    {
     "data": {
      "text/plain": [
       "work_year             0\n",
       "job_title             0\n",
       "job_category          0\n",
       "salary_currency       0\n",
       "salary                0\n",
       "salary_in_usd         0\n",
       "employee_residence    0\n",
       "experience_level      0\n",
       "employment_type       0\n",
       "work_setting          0\n",
       "company_location      0\n",
       "company_size          0\n",
       "dtype: int64"
      ]
     },
     "execution_count": 10,
     "metadata": {},
     "output_type": "execute_result"
    }
   ],
   "source": [
    "null_values.sum()"
   ]
  },
  {
   "cell_type": "code",
   "execution_count": 12,
   "id": "c34d23d0-afa4-4f94-9ba0-6de9eef1534e",
   "metadata": {},
   "outputs": [
    {
     "data": {
      "text/plain": [
       "0"
      ]
     },
     "execution_count": 12,
     "metadata": {},
     "output_type": "execute_result"
    }
   ],
   "source": [
    "null_count = null_values.sum().sum()\n",
    "null_count"
   ]
  },
  {
   "cell_type": "code",
   "execution_count": 14,
   "id": "fa0ca243-75db-4cbb-b09f-8828e9f0164d",
   "metadata": {},
   "outputs": [
    {
     "data": {
      "text/plain": [
       "Unnamed: 0                            0\n",
       "source_id                             0\n",
       "source_name                           0\n",
       "author                             1020\n",
       "title                                 2\n",
       "description                          24\n",
       "url                                   1\n",
       "url_to_image                        656\n",
       "published_at                          1\n",
       "content                            1292\n",
       "top_article                           2\n",
       "engagement_reaction_count           118\n",
       "engagement_comment_count            118\n",
       "engagement_share_count              118\n",
       "engagement_comment_plugin_count     118\n",
       "dtype: int64"
      ]
     },
     "execution_count": 14,
     "metadata": {},
     "output_type": "execute_result"
    }
   ],
   "source": [
    "articles_data = pd.read_csv('datasets/articles_data_homeproject.csv')\n",
    "null_values = articles_data.isnull()\n",
    "null_values.sum()"
   ]
  },
  {
   "cell_type": "code",
   "execution_count": 15,
   "id": "335f8d95-2de7-46cc-ac75-a6ffe0f7245f",
   "metadata": {},
   "outputs": [
    {
     "data": {
      "text/plain": [
       "3470"
      ]
     },
     "execution_count": 15,
     "metadata": {},
     "output_type": "execute_result"
    }
   ],
   "source": [
    "null_values.sum().sum()"
   ]
  },
  {
   "cell_type": "code",
   "execution_count": null,
   "id": "34e627c3-5310-4704-b4e5-d1f5521030ef",
   "metadata": {},
   "outputs": [],
   "source": []
  }
 ],
 "metadata": {
  "kernelspec": {
   "display_name": "Python 3 (ipykernel)",
   "language": "python",
   "name": "python3"
  },
  "language_info": {
   "codemirror_mode": {
    "name": "ipython",
    "version": 3
   },
   "file_extension": ".py",
   "mimetype": "text/x-python",
   "name": "python",
   "nbconvert_exporter": "python",
   "pygments_lexer": "ipython3",
   "version": "3.11.0"
  }
 },
 "nbformat": 4,
 "nbformat_minor": 5
}
